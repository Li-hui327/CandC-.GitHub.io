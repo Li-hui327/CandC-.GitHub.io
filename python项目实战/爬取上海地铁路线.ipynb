{
 "cells": [
  {
   "cell_type": "code",
   "execution_count": 5,
   "metadata": {},
   "outputs": [],
   "source": [
    "def get_lines():\n",
    "    subway_number_list = list(range(1,14))+[16,17,41]\n",
    "    subway_number_str_list = list(map(lambda x:str(x).rjust(2,'0'),\n",
    "    subway_number_list))\n",
    "    url_head = \"http://service.shmetro.com/axlcz\"\n",
    "    url_tail = \"/index.htm\"\n",
    "    subway_url_dict = dict(map(lambda x:(x,url_head + x + url_tail),\n",
    "    subway_number_str_list))\n",
    "    subway_url_dict['浦江线'] = subway_url_dict.pop('41')\n",
    "    return subway_url_dict\n",
    "\n",
    "def get_stations(line):\n",
    "    site = session.get(line)\n",
    "    line_list = site.html.find('div.linehow',first = True)\n",
    "    station_list = line_list.find('a')\n",
    "    line = []\n",
    "    for station in station_list:\n",
    "        line.append(station.text)\n",
    "    return line\n",
    "\n",
    "from requests_html import HTMLSession\n",
    "import pandas as pd\n",
    "session = HTMLSession()\n",
    "df = pd.DataFrame()\n",
    "lines = get_lines()\n",
    "for line in lines.keys():\n",
    "    df[line] = pd.Series(get_stations(lines[line]))\n",
    "df.to_excel(\"D:\\\\shanghai_subway_lines.xlsx\")"
   ]
  },
  {
   "cell_type": "code",
   "execution_count": null,
   "metadata": {},
   "outputs": [],
   "source": [
    "pip install -U requests-html"
   ]
  },
  {
   "cell_type": "code",
   "execution_count": null,
   "metadata": {},
   "outputs": [],
   "source": []
  }
 ],
 "metadata": {
  "kernelspec": {
   "display_name": "Python 3",
   "language": "python",
   "name": "python3"
  },
  "language_info": {
   "codemirror_mode": {
    "name": "ipython",
    "version": 3
   },
   "file_extension": ".py",
   "mimetype": "text/x-python",
   "name": "python",
   "nbconvert_exporter": "python",
   "pygments_lexer": "ipython3",
   "version": "3.8.5"
  }
 },
 "nbformat": 4,
 "nbformat_minor": 5
}
